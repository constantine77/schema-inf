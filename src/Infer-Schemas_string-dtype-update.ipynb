{
 "cells": [
  {
   "cell_type": "markdown",
   "id": "2122a447",
   "metadata": {},
   "source": [
    "***\n",
    "# Infer Schemas\n",
    "***"
   ]
  },
  {
   "cell_type": "markdown",
   "id": "94c8d24d",
   "metadata": {},
   "source": [
    "### _Import libraries_"
   ]
  },
  {
   "cell_type": "code",
   "execution_count": 1,
   "id": "438fad0d",
   "metadata": {},
   "outputs": [],
   "source": [
    "import pandas as pd\n",
    "import pandera as pda\n",
    "import tkinter as tk\n",
    "import os\n",
    "import yaml\n",
    "import json\n",
    "import pandavro as pdx # Import to add .avro files to pandas DataFrames.\n",
    "from tkinter import messagebox, filedialog"
   ]
  },
  {
   "cell_type": "markdown",
   "id": "2510b68c",
   "metadata": {},
   "source": [
    "### _Create dialog window_"
   ]
  },
  {
   "cell_type": "code",
   "execution_count": 2,
   "id": "0add4b07",
   "metadata": {},
   "outputs": [
    {
     "data": {
      "text/plain": [
       "''"
      ]
     },
     "execution_count": 2,
     "metadata": {},
     "output_type": "execute_result"
    }
   ],
   "source": [
    "root = tk.Tk()\n",
    "root.withdraw()\n",
    "root.focus_force()\n",
    "root.call('wm', 'attributes', '.', '-topmost', True)"
   ]
  },
  {
   "cell_type": "markdown",
   "id": "6c75b18c",
   "metadata": {},
   "source": [
    "### _Select input and output folders_"
   ]
  },
  {
   "cell_type": "code",
   "execution_count": 3,
   "id": "361a74f9",
   "metadata": {},
   "outputs": [
    {
     "name": "stdout",
     "output_type": "stream",
     "text": [
      "/Users/veles/Applications/dev/schema-inference/data/schemas-output-folder/schemas-output-folder/yaml-schemas-output-folder\n"
     ]
    }
   ],
   "source": [
    "# Select input folder\n",
    "messagebox.showinfo(title='Folder Selection', message='Please select the input folder containing the datasets.')\n",
    "input_directory = filedialog.askdirectory()\n",
    "if input_directory == '':\n",
    "    messagebox.showinfo(title='Folder Selection', message='No folder was selected. Please select a folder.')\n",
    "    os._exit(0)\n",
    "\n",
    "# Select output folder\n",
    "messagebox.showinfo(title='Folder Selection', message='Please select the folder you would like to extract the schema files to')\n",
    "output_directory = filedialog.askdirectory()\n",
    "if output_directory == '':\n",
    "    messagebox.showinfo(title='Folder Selection', message='No folder was selected. Please select a folder.')\n",
    "    os._exit(0)\n",
    "\n",
    "# Check if output directory exists\n",
    "    # Create output directory if does not exist\n",
    "try:\n",
    "    output_directory = os.path.join(output_directory, 'schemas-output-folder')\n",
    "    output_directory = os.path.normpath(output_directory)\n",
    "    yaml_output_directory = os.path.join(output_directory, 'yaml-schemas-output-folder')\n",
    "    yaml_output_directory = os.path.join(yaml_output_directory)\n",
    "    os.mkdir(output_directory)\n",
    "    os.mkdir(yaml_output_directory)\n",
    "    print(yaml_output_directory)\n",
    "except OSError as error: \n",
    "    print(error) \n",
    "    \n",
    "%gui tk"
   ]
  },
  {
   "cell_type": "code",
   "execution_count": null,
   "id": "31b417dc",
   "metadata": {},
   "outputs": [],
   "source": []
  },
  {
   "cell_type": "code",
   "execution_count": 3,
   "id": "ca869349",
   "metadata": {},
   "outputs": [
    {
     "ename": "NameError",
     "evalue": "name 'input_directory' is not defined",
     "output_type": "error",
     "traceback": [
      "\u001b[0;31m---------------------------------------------------------------------------\u001b[0m",
      "\u001b[0;31mNameError\u001b[0m                                 Traceback (most recent call last)",
      "Cell \u001b[0;32mIn [3], line 3\u001b[0m\n\u001b[1;32m      1\u001b[0m \u001b[38;5;66;03m# Select input folder\u001b[39;00m\n\u001b[1;32m      2\u001b[0m messagebox\u001b[38;5;241m.\u001b[39mshowinfo(title\u001b[38;5;241m=\u001b[39m\u001b[38;5;124m'\u001b[39m\u001b[38;5;124mFolder Selection\u001b[39m\u001b[38;5;124m'\u001b[39m, message\u001b[38;5;241m=\u001b[39m\u001b[38;5;124m'\u001b[39m\u001b[38;5;124mPlease select the input folder containing the datasets.\u001b[39m\u001b[38;5;124m'\u001b[39m)\n\u001b[0;32m----> 3\u001b[0m \u001b[38;5;28;01mif\u001b[39;00m \u001b[43minput_directory\u001b[49m \u001b[38;5;241m!=\u001b[39m \u001b[38;5;28;01mNone\u001b[39;00m:\n\u001b[1;32m      4\u001b[0m    input_directory \u001b[38;5;241m=\u001b[39m filedialog\u001b[38;5;241m.\u001b[39maskdirectory(initialdir\u001b[38;5;241m=\u001b[39minput_directory)\n\u001b[1;32m      5\u001b[0m \u001b[38;5;28;01melse\u001b[39;00m:\n",
      "\u001b[0;31mNameError\u001b[0m: name 'input_directory' is not defined"
     ]
    }
   ],
   "source": [
    "# Select input folder\n",
    "messagebox.showinfo(title='Folder Selection', message='Please select the input folder containing the datasets.')\n",
    "if input_directory != None:\n",
    "   input_directory = filedialog.askdirectory(initialdir=input_directory)\n",
    "else:\n",
    "    input_directory = filedialog.askdirectory()\n",
    "    \n",
    "if input_directory == '':\n",
    "    messagebox.showinfo(title='Folder Selection', message='No folder was selected. Please select a folder.')\n",
    "    os._exit(0)\n",
    "\n",
    "# Select output folder\n",
    "messagebox.showinfo(title='Folder Selection', message='Please select the folder you would like to extract the schema files to')\n",
    "output_directory = filedialog.askdirectory()\n",
    "    \n",
    "if output_directory == '':\n",
    "    messagebox.showinfo(title='Folder Selection', message='No folder was selected. Please select a folder.')\n",
    "    os._exit(0)\n",
    "\n",
    "# Check if output directory exists\n",
    "    # Create output directory if does not exist\n",
    "try:\n",
    "    output_directory = os.path.join(output_directory, 'schemas-output-folder')\n",
    "    output_directory = os.path.normpath(output_directory)\n",
    "    yaml_output_directory = os.path.join(output_directory, 'yaml-schemas-output-folder')\n",
    "    yaml_output_directory = os.path.normpath(yaml_output_directory)\n",
    "    os.mkdir(output_directory)\n",
    "    os.mkdir(yaml_output_directory)\n",
    "except OSError as error: \n",
    "    print(error) \n",
    "    \n",
    "%gui tk"
   ]
  },
  {
   "cell_type": "markdown",
   "id": "8b323074",
   "metadata": {},
   "source": [
    "### _Create Methods_"
   ]
  },
  {
   "cell_type": "code",
   "execution_count": 4,
   "id": "aeafaf5e",
   "metadata": {},
   "outputs": [],
   "source": [
    "# Convert yaml to json and export\n",
    "def convert_and_export(file_name, yaml_path):\n",
    "\n",
    "    # Join output directory with file name\n",
    "    json_path = str(os.path.join(output_directory, file_name + '.json'))\n",
    "\n",
    "    # Load yaml file\n",
    "    with open(yaml_path) as yaml_file:\n",
    "        yaml_config = yaml.safe_load(yaml_file)\n",
    "\n",
    "    # Create json file with write permissions\n",
    "    with open(json_path, 'w') as json_file:\n",
    "        json_file = json.dump(yaml_config, json_file, indent=2)"
   ]
  },
  {
   "cell_type": "code",
   "execution_count": 5,
   "id": "a15d5aca",
   "metadata": {},
   "outputs": [],
   "source": [
    "def run(input_directory):\n",
    "    # Add global scope variable\n",
    "    global df\n",
    "    \n",
    "    count = 0\n",
    "   \n",
    "    # Iterate through files in input_directory\n",
    "    for file in os.listdir(input_directory):\n",
    "        \n",
    "        # Combine input directory with file name for file export\n",
    "        f = os.path.join(input_directory, file)\n",
    "        \n",
    "        # Normalize path string to OS default\n",
    "        f = os.path.normpath(f)\n",
    "        \n",
    "        print(f)\n",
    "        \n",
    "        # Check for file extension\n",
    "            # Add to pandas DataFrame\n",
    "        if '.parquet' in f:\n",
    "            df = pd.read_parquet(f)\n",
    "        elif '.csv' in f:\n",
    "            df = pd.read_csv(f)\n",
    "        elif '.json' in f:\n",
    "            df = pd.read_json(f)\n",
    "        elif '.avro' in f:\n",
    "            df = pdx.read_avro(f)\n",
    "        else:\n",
    "            continue\n",
    "\n",
    "        # Split data file name to remove the file extension\n",
    "        # Used to name the schema file\n",
    "        split_string = file.split('.')\n",
    "        file_name = split_string[-2] + '-schema'\n",
    "\n",
    "        print('file name: ' + file_name)\n",
    "        \n",
    "        for i in df.columns:\n",
    "            if df[i].dtype == object:\n",
    "                df[i] = df[i].astype(pd.StringDtype())\n",
    "\n",
    "        # Create schema in python DataFrame object\n",
    "        schema = pda.infer_schema(df)\n",
    "\n",
    "        # Export to yaml (pandera default)\n",
    "        yaml_path = str(os.path.join(yaml_output_directory, file_name + '.yaml'))\n",
    "        yaml_schema = schema.to_yaml(yaml_path)\n",
    "\n",
    "        # Convert yaml to json and export\n",
    "        convert_and_export(file_name, yaml_path)\n",
    "\n",
    "        count += 1\n",
    "        \n",
    "    print('Exported ' + str(count) + ' file(s) to ' + output_directory)"
   ]
  },
  {
   "cell_type": "markdown",
   "id": "d9b94c7b",
   "metadata": {},
   "source": [
    "### _Run program_"
   ]
  },
  {
   "cell_type": "code",
   "execution_count": 6,
   "id": "4344558d",
   "metadata": {},
   "outputs": [
    {
     "name": "stdout",
     "output_type": "stream",
     "text": [
      "/Users/veles/Applications/dev/schema-inference/data/.DS_Store\n",
      "/Users/veles/Applications/dev/schema-inference/data/userdata1.avro\n",
      "file name: userdata1-schema\n",
      "/Users/veles/Applications/dev/schema-inference/data/userdata1.parquet\n",
      "file name: userdata1-schema\n",
      "/Users/veles/Applications/dev/schema-inference/data/schemas-output-folder\n",
      "Exported 2 file(s) to /Users/veles/Applications/dev/schema-inference/data/schemas-output-folder/schemas-output-folder\n"
     ]
    }
   ],
   "source": [
    "run(input_directory)"
   ]
  },
  {
   "cell_type": "markdown",
   "id": "28a8c902",
   "metadata": {},
   "source": [
    "#### Pros:\n",
    "    - Easy to write code with the panderas library creating the schemas.\n",
    "#### Cons: \n",
    "    - Still potentionally need to modify schemas, as panderas documentation states it only creates rough drafts."
   ]
  }
 ],
 "metadata": {
  "celltoolbar": "Edit Metadata",
  "kernelspec": {
   "display_name": "schema-inference",
   "language": "python",
   "name": "schema-inference"
  },
  "language_info": {
   "codemirror_mode": {
    "name": "ipython",
    "version": 3
   },
   "file_extension": ".py",
   "mimetype": "text/x-python",
   "name": "python",
   "nbconvert_exporter": "python",
   "pygments_lexer": "ipython3",
   "version": "3.9.13"
  },
  "vscode": {
   "interpreter": {
    "hash": "1d4fe0504457f6c95a85efa6ac8997d990167e21e24e093ce337a3ca4a31ce0f"
   }
  }
 },
 "nbformat": 4,
 "nbformat_minor": 5
}
